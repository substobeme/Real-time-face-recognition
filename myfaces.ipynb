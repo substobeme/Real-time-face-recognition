{
  "nbformat": 4,
  "nbformat_minor": 0,
  "metadata": {
    "colab": {
      "provenance": [],
      "authorship_tag": "ABX9TyPijQfUjp5L3yYsisyhpFXn",
      "include_colab_link": true
    },
    "kernelspec": {
      "name": "python3",
      "display_name": "Python 3"
    },
    "language_info": {
      "name": "python"
    }
  },
  "cells": [
    {
      "cell_type": "markdown",
      "metadata": {
        "id": "view-in-github",
        "colab_type": "text"
      },
      "source": [
        "<a href=\"https://colab.research.google.com/github/substobeme/Real-time-face-recognition/blob/main/myfaces.ipynb\" target=\"_parent\"><img src=\"https://colab.research.google.com/assets/colab-badge.svg\" alt=\"Open In Colab\"/></a>"
      ]
    },
    {
      "cell_type": "code",
      "execution_count": null,
      "metadata": {
        "colab": {
          "base_uri": "https://localhost:8080/"
        },
        "id": "kG1V9NE6ajUG",
        "outputId": "28207d23-ece8-4bfa-f7f3-434a8fe7c42b"
      },
      "outputs": [
        {
          "output_type": "stream",
          "name": "stdout",
          "text": [
            "Mounted at /content/drive\n"
          ]
        }
      ],
      "source": [
        "from PIL import Image\n",
        "import cv2\n",
        "import numpy as np\n",
        "from google.colab.patches import cv2_imshow\n",
        "from google.colab import drive\n",
        "drive.mount('/content/drive')"
      ]
    },
    {
      "cell_type": "code",
      "source": [
        "import os\n",
        "path='/content/drive/MyDrive/data face'\n",
        "print(os.listdir(path))"
      ],
      "metadata": {
        "colab": {
          "base_uri": "https://localhost:8080/"
        },
        "id": "d4057C17bLBe",
        "outputId": "78acdf3a-c663-4bd4-9abe-13eb44bdf4de"
      },
      "execution_count": null,
      "outputs": [
        {
          "output_type": "stream",
          "name": "stdout",
          "text": [
            "['person.1.9.jpg', 'person.1.7.jpg', 'person.1.2.jpg', 'person.1.5.jpg', 'person.1.8.jpg', 'person.1.4.jpg', 'person.1.3.jpg', 'person.1.6.jpg', 'person.1.1.jpg', 'person.1.29.jpg', 'person.1.32.jpg', 'person.1.36.jpg', 'person.1.22.jpg', 'person.1.12.jpg', 'person.1.23.jpg', 'person.1.24.jpg', 'person.1.33.jpg', 'person.1.17.jpg', 'person.1.11.jpg', 'person.1.18.jpg', 'person.1.21.jpg', 'person.1.27.jpg', 'person.1.28.jpg', 'person.1.30.jpg', 'person.1.15.jpg', 'person.1.39.jpg', 'person.1.10.jpg', 'person.1.19.jpg', 'person.1.35.jpg', 'person.1.20.jpg', 'person.1.14.jpg', 'person.1.31.jpg', 'person.1.26.jpg', 'person.1.25.jpg', 'person.1.38.jpg', 'person.1.37.jpg', 'person.1.16.jpg', 'person.1.13.jpg', 'person.1.34.jpg', 'person.1.47.jpg', 'person.1.67.jpg', 'person.1.56.jpg', 'person.1.55.jpg', 'person.1.64.jpg', 'person.1.50.jpg', 'person.1.44.jpg', 'person.1.60.jpg', 'person.1.57.jpg', 'person.1.49.jpg', 'person.1.62.jpg', 'person.1.68.jpg', 'person.1.69.jpg', 'person.1.43.jpg', 'person.1.45.jpg', 'person.1.53.jpg', 'person.1.42.jpg', 'person.1.40.jpg', 'person.1.63.jpg', 'person.1.41.jpg', 'person.1.52.jpg', 'person.1.51.jpg', 'person.1.65.jpg', 'person.1.54.jpg', 'person.1.59.jpg', 'person.1.48.jpg', 'person.1.58.jpg', 'person.1.61.jpg', 'person.1.46.jpg', 'person.1.66.jpg', 'person.1.70.jpg', 'person.2.1.jpg', 'person.2.2.jpg', 'person.2.3.jpg', 'person.2.28.jpg', 'person.2.14.jpg', 'person.2.32.jpg', 'person.2.19.jpg', 'person.2.6.jpg', 'person.2.13.jpg', 'person.2.24.jpg', 'person.2.17.jpg', 'person.2.23.jpg', 'person.2.12.jpg', 'person.2.10.jpg', 'person.2.31.jpg', 'person.2.25.jpg', 'person.2.26.jpg', 'person.2.22.jpg', 'person.2.5.jpg', 'person.2.30.jpg', 'person.2.4.jpg', 'person.2.21.jpg', 'person.2.9.jpg', 'person.2.16.jpg', 'person.2.27.jpg', 'person.2.20.jpg', 'person.2.15.jpg', 'person.2.29.jpg', 'person.2.11.jpg', 'person.2.7.jpg', 'person.2.18.jpg', 'person.2.8.jpg', 'person.2.44.jpg', 'person.2.62.jpg', 'person.2.47.jpg', 'person.2.49.jpg', 'person.2.48.jpg', 'person.2.35.jpg', 'person.2.40.jpg', 'person.2.41.jpg', 'person.2.54.jpg', 'person.2.36.jpg', 'person.2.39.jpg', 'person.2.34.jpg', 'person.2.42.jpg', 'person.2.56.jpg', 'person.2.59.jpg', 'person.2.51.jpg', 'person.2.60.jpg', 'person.2.43.jpg', 'person.2.46.jpg', 'person.2.58.jpg', 'person.2.38.jpg', 'person.2.33.jpg', 'person.2.55.jpg', 'person.2.53.jpg', 'person.2.37.jpg', 'person.2.57.jpg', 'person.2.45.jpg', 'person.2.52.jpg', 'person.2.61.jpg', 'person.2.50.jpg', 'person.2.63.jpg', 'person.2.67.jpg', 'person.2.70.jpg', 'person.2.64.jpg', 'person.2.66.jpg', 'person.2.69.jpg', 'person.2.65.jpg', 'person.2.68.jpg', 'person.3.6.jpg', 'person.3.1.jpg', 'person.3.4.jpg', 'person.3.2.jpg', 'person.3.3.jpg', 'person.3.5.jpg', 'person.3.7.jpg', 'person.3.15.jpg', 'person.3.12.jpg', 'person.3.11.jpg', 'person.3.14.jpg', 'person.3.13.jpg', 'person.3.8.jpg', 'person.3.9.jpg', 'person.3.10.jpg', 'person.3.66.jpg', 'person.3.60.jpg', 'person.3.65.jpg', 'person.3.58.jpg', 'person.3.56.jpg', 'person.3.62.jpg', 'person.3.55.jpg', 'person.3.61.jpg', 'person.3.53.jpg', 'person.3.54.jpg', 'person.3.57.jpg', 'person.3.63.jpg', 'person.3.67.jpg', 'person.3.64.jpg', 'person.3.59.jpg', 'person.3.70.jpg', 'person.3.68.jpg', 'person.3.69.jpg']\n"
          ]
        }
      ]
    },
    {
      "cell_type": "code",
      "source": [
        "def data(path1):\n",
        "  paths= [os.path.join(path1,f) for f in os.listdir(path1)]\n",
        "  faces=[]\n",
        "  ids=[]\n",
        "  for p in paths:\n",
        "    #print(paths) to check value\n",
        "    image= Image.open(p).convert('L')\n",
        "    #PIL to numpy array\n",
        "    image_np= np.array(image,'uint8')\n",
        "    #splitting logic in copy\n",
        "    id= int(p.split('.')[1])\n",
        "\n",
        "    ids.append(id)\n",
        "    faces.append(image_np)\n",
        "  return ids,faces"
      ],
      "metadata": {
        "id": "hpEcpXUuWutN"
      },
      "execution_count": null,
      "outputs": []
    },
    {
      "cell_type": "code",
      "source": [
        "ids,faces= data(path)"
      ],
      "metadata": {
        "id": "Xwceu65bbxz9"
      },
      "execution_count": null,
      "outputs": []
    },
    {
      "cell_type": "code",
      "source": [
        "ids1 = np.array(ids)"
      ],
      "metadata": {
        "id": "2Pyvp8c0ci5l"
      },
      "execution_count": null,
      "outputs": []
    },
    {
      "cell_type": "code",
      "source": [
        "lpbh_classifier= cv2.face.LBPHFaceRecognizer_create(radius=4,neighbors=14,grid_x=9,grid_y=9)\n",
        "lpbh_classifier.train(faces,ids1)\n",
        "\n"
      ],
      "metadata": {
        "id": "sVyg0bX3cBpV"
      },
      "execution_count": null,
      "outputs": []
    },
    {
      "cell_type": "code",
      "source": [
        "print(lpbh_classifier.predict(faces[6])[0])"
      ],
      "metadata": {
        "colab": {
          "base_uri": "https://localhost:8080/",
          "height": 141
        },
        "id": "P2hkwsUb1zip",
        "outputId": "edab9016-bd87-4195-d326-0cc3454e5a56"
      },
      "execution_count": 1,
      "outputs": [
        {
          "output_type": "error",
          "ename": "NameError",
          "evalue": "name 'lpbh_classifier' is not defined",
          "traceback": [
            "\u001b[0;31m---------------------------------------------------------------------------\u001b[0m",
            "\u001b[0;31mNameError\u001b[0m                                 Traceback (most recent call last)",
            "\u001b[0;32m<ipython-input-1-c84af22d2298>\u001b[0m in \u001b[0;36m<cell line: 1>\u001b[0;34m()\u001b[0m\n\u001b[0;32m----> 1\u001b[0;31m \u001b[0mprint\u001b[0m\u001b[0;34m(\u001b[0m\u001b[0mlpbh_classifier\u001b[0m\u001b[0;34m.\u001b[0m\u001b[0mpredict\u001b[0m\u001b[0;34m(\u001b[0m\u001b[0mfaces\u001b[0m\u001b[0;34m[\u001b[0m\u001b[0;36m6\u001b[0m\u001b[0;34m]\u001b[0m\u001b[0;34m)\u001b[0m\u001b[0;34m[\u001b[0m\u001b[0;36m0\u001b[0m\u001b[0;34m]\u001b[0m\u001b[0;34m)\u001b[0m\u001b[0;34m\u001b[0m\u001b[0;34m\u001b[0m\u001b[0m\n\u001b[0m",
            "\u001b[0;31mNameError\u001b[0m: name 'lpbh_classifier' is not defined"
          ]
        }
      ]
    },
    {
      "cell_type": "code",
      "source": [
        "lpbh_classifier.write('/content/drive/MyDrive/face_recognizer.ymnl')\n"
      ],
      "metadata": {
        "id": "gfu9Qds_N4oc"
      },
      "execution_count": null,
      "outputs": []
    }
  ]
}